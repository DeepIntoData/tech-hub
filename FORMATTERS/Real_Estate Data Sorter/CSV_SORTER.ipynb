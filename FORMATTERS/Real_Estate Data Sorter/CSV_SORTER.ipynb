{
 "cells": [
  {
   "cell_type": "code",
   "execution_count": 3,
   "metadata": {},
   "outputs": [],
   "source": [
    "# Dependencies\n",
    "import pandas as pd\n",
    "import geopandas as gpd\n",
    "import json\n",
    "import csv"
   ]
  },
  {
   "cell_type": "code",
   "execution_count": 2,
   "metadata": {},
   "outputs": [],
   "source": [
    "#Filepaths\n",
    "REM = \"Resources/Real_Estate_Master.csv\"\n",
    "GeoJSON = \"Resources/nyc.geojson\""
   ]
  },
  {
   "cell_type": "code",
   "execution_count": 3,
   "metadata": {},
   "outputs": [],
   "source": [
    "#REM to DF\n",
    "df=pd.read_csv(REM, encoding=\"ISO-8859-1\")"
   ]
  },
  {
   "cell_type": "code",
   "execution_count": 4,
   "metadata": {},
   "outputs": [],
   "source": [
    "#Drop Columns\n",
    "df1=df.drop(df.columns.to_series()['1/31/1996':'12/31/2009'], axis=1)\n",
    "df2=df1.drop(columns=['RegionID','SizeRank','RegionType','StateName','Metro','CountyName'])\n",
    "df5=df2.fillna(0)\n"
   ]
  },
  {
   "cell_type": "code",
   "execution_count": 5,
   "metadata": {},
   "outputs": [],
   "source": [
    "#Average Columns\n",
    "df5['avg2010']=(df5['1/31/2010']+df5['2/28/2010']+df5['3/31/2010']+df5['4/30/2010']+df5['5/31/2010']+df5['6/30/2010']\n",
    "                +df5['7/31/2010']+df5['8/31/2010']+df5['9/30/2010']+df5['10/31/2010']+df5['11/30/2010']+df5['12/31/2010'])/12\n",
    "\n",
    "df5['avg2011']=(df5['1/31/2011']+df5['2/28/2011']+df5['3/31/2011']+df5['4/30/2011']+df5['5/31/2011']+df5['6/30/2011']\n",
    "                +df5['7/31/2011']+df5['8/31/2011']+df5['9/30/2011']+df5['10/31/2011']+df5['11/30/2011']+df5['12/31/2011'])/12\n",
    "\n",
    "df5['avg2012']=(df5['1/31/2012']+df5['2/29/2012']+df5['3/31/2012']+df5['4/30/2012']+df5['5/31/2012']+df5['6/30/2012']\n",
    "                +df5['7/31/2012']+df5['8/31/2012']+df5['9/30/2012']+df5['10/31/2012']+df5['11/30/2012']+df5['12/31/2012'])/12\n",
    "\n",
    "df5['avg2013']=(df5['1/31/2013']+df5['2/28/2013']+df5['3/31/2013']+df5['4/30/2013']+df5['5/31/2013']+df5['6/30/2013']\n",
    "                +df5['7/31/2013']+df5['8/31/2013']+df5['9/30/2013']+df5['10/31/2013']+df5['11/30/2013']+df5['12/31/2013'])/12\n",
    "\n",
    "df5['avg2014']=(df5['1/31/2014']+df5['2/28/2014']+df5['3/31/2014']+df5['4/30/2014']+df5['5/31/2014']+df5['6/30/2014']\n",
    "                +df5['7/31/2014']+df5['8/31/2014']+df5['9/30/2014']+df5['10/31/2014']+df5['11/30/2014']+df5['12/31/2014'])/12\n",
    "\n",
    "df5['avg2015']=(df5['1/31/2015']+df5['2/28/2015']+df5['3/31/2015']+df5['4/30/2015']+df5['5/31/2015']+df5['6/30/2015']\n",
    "                +df5['7/31/2015']+df5['8/31/2015']+df5['9/30/2015']+df5['10/31/2015']+df5['11/30/2015']+df5['12/31/2015'])/12\n",
    "\n",
    "df5['avg2016']=(df5['1/31/2016']+df5['2/29/2016']+df5['3/31/2016']+df5['4/30/2016']+df5['5/31/2016']+df5['6/30/2016']\n",
    "                +df5['7/31/2016']+df5['8/31/2016']+df5['9/30/2016']+df5['10/31/2016']+df5['11/30/2016']+df5['12/31/2016'])/12\n",
    "\n",
    "df5['avg2017']=(df5['1/31/2017']+df5['2/28/2017']+df5['3/31/2017']+df5['4/30/2017']+df5['5/31/2017']+df5['6/30/2017']\n",
    "                +df5['7/31/2017']+df5['8/31/2017']+df5['9/30/2017']+df5['10/31/2017']+df5['11/30/2017']+df5['12/31/2017'])/12\n",
    "\n",
    "df5['avg2018']=(df5['1/31/2018']+df5['2/28/2018']+df5['3/31/2018']+df5['4/30/2018']+df5['5/31/2018']+df5['6/30/2018']\n",
    "                +df5['7/31/2018']+df5['8/31/2018']+df5['9/30/2018']+df5['10/31/2018']+df5['11/30/2018']+df5['12/31/2018'])/12\n",
    "\n",
    "df5['avg2019']=(df5['1/31/2019']+df5['2/28/2019']+df5['3/31/2019']+df5['4/30/2019']+df5['5/31/2019']+df5['6/30/2019']\n",
    "                +df5['7/31/2019']+df5['8/31/2019']+df5['9/30/2019']+df5['10/31/2019']+df5['11/30/2019']+df5['12/31/2019'])/12\n",
    "\n",
    "df5['avg2020']=(df5['1/31/2020']+df5['2/29/2020']+df5['3/31/2020']+df5['4/30/2020']+df5['5/31/2020']+df5['6/30/2020']\n",
    "                +df5['7/31/2020']+df5['8/31/2020'])/8"
   ]
  },
  {
   "cell_type": "code",
   "execution_count": 6,
   "metadata": {},
   "outputs": [],
   "source": [
    "#Drop Columns on Months\n",
    "df=df5.drop(df5.columns.to_series()['1/31/2010':'8/31/2020'], axis=1)"
   ]
  },
  {
   "cell_type": "code",
   "execution_count": 7,
   "metadata": {},
   "outputs": [],
   "source": [
    "#Convert floats to ints\n",
    "convert_dict={'avg2010':int,'avg2011':int,'avg2012':int,'avg2013':int,'avg2014':int,'avg2015':int,'avg2016':int,'avg2017':int,'avg2018':int,'avg2019':int,'avg2020':int}\n",
    "df2=df.astype(convert_dict)\n",
    "df=df2"
   ]
  },
  {
   "cell_type": "code",
   "execution_count": 8,
   "metadata": {},
   "outputs": [],
   "source": [
    "#Write to New Master CSV\n",
    "df.to_csv(\"Cleaned_Real_Estate_Master.csv\", index=False, header=True)"
   ]
  },
  {
   "cell_type": "code",
   "execution_count": 10,
   "metadata": {},
   "outputs": [
    {
     "output_type": "execute_result",
     "data": {
      "text/plain": [
       "              RegionName State         City  avg2010  avg2011  avg2012  \\\n",
       "0       Northeast Dallas    TX       Dallas   187787   180545   181466   \n",
       "1               Maryvale    AZ      Phoenix    73571    61468    70710   \n",
       "2               Paradise    NV    Las Vegas   133044   117870   115968   \n",
       "3        Upper West Side    NY     New York   837846   892519   919807   \n",
       "4      South Los Angeles    CA  Los Angeles   248272   241323   246385   \n",
       "...                  ...   ...          ...      ...      ...      ...   \n",
       "16118        Taylortowne    DE       Newark   160652   147393   131482   \n",
       "16119      Ashland Hills    TN  Clarksville        0        0        0   \n",
       "16120      Heather Woods    DE       Newark   268081   244872   227637   \n",
       "16121            Woodmar    IN      Hammond    94052    89029    87789   \n",
       "16122      Royalty Acres    TN  Clarksville   125190   122664   123382   \n",
       "\n",
       "       avg2013  avg2014  avg2015  avg2016  avg2017  avg2018  avg2019  avg2020  \n",
       "0       195359   212015   234556   260993   285935   313257   330207   334719  \n",
       "1        92066   108244   123466   141254   155709   172568   185446   202017  \n",
       "2       146347   170180   181782   196262   215024   253104   267667   273797  \n",
       "3       976615  1098870  1175609  1223603  1234443  1300041  1238594  1203167  \n",
       "4       288992   318797   347449   382302   428845   481205   505128   539717  \n",
       "...        ...      ...      ...      ...      ...      ...      ...      ...  \n",
       "16118   128755   132661   132194   147825   157560   161277   170992   174731  \n",
       "16119        0        0        0        0        0   156423   168200   180861  \n",
       "16120   215862   212808   206553   219143   224577   239099   245177   250968  \n",
       "16121    88343    83499    85523    87790    94566   104412   115843   124053  \n",
       "16122   124638   133891   138873   141707   147019   161104   165819   176328  \n",
       "\n",
       "[16123 rows x 14 columns]"
      ],
      "text/html": "<div>\n<style scoped>\n    .dataframe tbody tr th:only-of-type {\n        vertical-align: middle;\n    }\n\n    .dataframe tbody tr th {\n        vertical-align: top;\n    }\n\n    .dataframe thead th {\n        text-align: right;\n    }\n</style>\n<table border=\"1\" class=\"dataframe\">\n  <thead>\n    <tr style=\"text-align: right;\">\n      <th></th>\n      <th>RegionName</th>\n      <th>State</th>\n      <th>City</th>\n      <th>avg2010</th>\n      <th>avg2011</th>\n      <th>avg2012</th>\n      <th>avg2013</th>\n      <th>avg2014</th>\n      <th>avg2015</th>\n      <th>avg2016</th>\n      <th>avg2017</th>\n      <th>avg2018</th>\n      <th>avg2019</th>\n      <th>avg2020</th>\n    </tr>\n  </thead>\n  <tbody>\n    <tr>\n      <th>0</th>\n      <td>Northeast Dallas</td>\n      <td>TX</td>\n      <td>Dallas</td>\n      <td>187787</td>\n      <td>180545</td>\n      <td>181466</td>\n      <td>195359</td>\n      <td>212015</td>\n      <td>234556</td>\n      <td>260993</td>\n      <td>285935</td>\n      <td>313257</td>\n      <td>330207</td>\n      <td>334719</td>\n    </tr>\n    <tr>\n      <th>1</th>\n      <td>Maryvale</td>\n      <td>AZ</td>\n      <td>Phoenix</td>\n      <td>73571</td>\n      <td>61468</td>\n      <td>70710</td>\n      <td>92066</td>\n      <td>108244</td>\n      <td>123466</td>\n      <td>141254</td>\n      <td>155709</td>\n      <td>172568</td>\n      <td>185446</td>\n      <td>202017</td>\n    </tr>\n    <tr>\n      <th>2</th>\n      <td>Paradise</td>\n      <td>NV</td>\n      <td>Las Vegas</td>\n      <td>133044</td>\n      <td>117870</td>\n      <td>115968</td>\n      <td>146347</td>\n      <td>170180</td>\n      <td>181782</td>\n      <td>196262</td>\n      <td>215024</td>\n      <td>253104</td>\n      <td>267667</td>\n      <td>273797</td>\n    </tr>\n    <tr>\n      <th>3</th>\n      <td>Upper West Side</td>\n      <td>NY</td>\n      <td>New York</td>\n      <td>837846</td>\n      <td>892519</td>\n      <td>919807</td>\n      <td>976615</td>\n      <td>1098870</td>\n      <td>1175609</td>\n      <td>1223603</td>\n      <td>1234443</td>\n      <td>1300041</td>\n      <td>1238594</td>\n      <td>1203167</td>\n    </tr>\n    <tr>\n      <th>4</th>\n      <td>South Los Angeles</td>\n      <td>CA</td>\n      <td>Los Angeles</td>\n      <td>248272</td>\n      <td>241323</td>\n      <td>246385</td>\n      <td>288992</td>\n      <td>318797</td>\n      <td>347449</td>\n      <td>382302</td>\n      <td>428845</td>\n      <td>481205</td>\n      <td>505128</td>\n      <td>539717</td>\n    </tr>\n    <tr>\n      <th>...</th>\n      <td>...</td>\n      <td>...</td>\n      <td>...</td>\n      <td>...</td>\n      <td>...</td>\n      <td>...</td>\n      <td>...</td>\n      <td>...</td>\n      <td>...</td>\n      <td>...</td>\n      <td>...</td>\n      <td>...</td>\n      <td>...</td>\n      <td>...</td>\n    </tr>\n    <tr>\n      <th>16118</th>\n      <td>Taylortowne</td>\n      <td>DE</td>\n      <td>Newark</td>\n      <td>160652</td>\n      <td>147393</td>\n      <td>131482</td>\n      <td>128755</td>\n      <td>132661</td>\n      <td>132194</td>\n      <td>147825</td>\n      <td>157560</td>\n      <td>161277</td>\n      <td>170992</td>\n      <td>174731</td>\n    </tr>\n    <tr>\n      <th>16119</th>\n      <td>Ashland Hills</td>\n      <td>TN</td>\n      <td>Clarksville</td>\n      <td>0</td>\n      <td>0</td>\n      <td>0</td>\n      <td>0</td>\n      <td>0</td>\n      <td>0</td>\n      <td>0</td>\n      <td>0</td>\n      <td>156423</td>\n      <td>168200</td>\n      <td>180861</td>\n    </tr>\n    <tr>\n      <th>16120</th>\n      <td>Heather Woods</td>\n      <td>DE</td>\n      <td>Newark</td>\n      <td>268081</td>\n      <td>244872</td>\n      <td>227637</td>\n      <td>215862</td>\n      <td>212808</td>\n      <td>206553</td>\n      <td>219143</td>\n      <td>224577</td>\n      <td>239099</td>\n      <td>245177</td>\n      <td>250968</td>\n    </tr>\n    <tr>\n      <th>16121</th>\n      <td>Woodmar</td>\n      <td>IN</td>\n      <td>Hammond</td>\n      <td>94052</td>\n      <td>89029</td>\n      <td>87789</td>\n      <td>88343</td>\n      <td>83499</td>\n      <td>85523</td>\n      <td>87790</td>\n      <td>94566</td>\n      <td>104412</td>\n      <td>115843</td>\n      <td>124053</td>\n    </tr>\n    <tr>\n      <th>16122</th>\n      <td>Royalty Acres</td>\n      <td>TN</td>\n      <td>Clarksville</td>\n      <td>125190</td>\n      <td>122664</td>\n      <td>123382</td>\n      <td>124638</td>\n      <td>133891</td>\n      <td>138873</td>\n      <td>141707</td>\n      <td>147019</td>\n      <td>161104</td>\n      <td>165819</td>\n      <td>176328</td>\n    </tr>\n  </tbody>\n</table>\n<p>16123 rows × 14 columns</p>\n</div>"
     },
     "metadata": {},
     "execution_count": 10
    }
   ],
   "source": [
    "df"
   ]
  },
  {
   "cell_type": "code",
   "execution_count": null,
   "metadata": {},
   "outputs": [],
   "source": [
    "######################SET UP FOR GEOJSON MERGE WITH REAL ESTATE#################################"
   ]
  },
  {
   "cell_type": "code",
   "execution_count": 9,
   "metadata": {},
   "outputs": [],
   "source": [
    "#Read RegionNames from GeoJsons\n",
    "\n",
    "with open(GeoJSON) as f:\n",
    "  data = json.load(f)\n",
    "\n",
    "x = data['features']\n",
    "\n",
    "# #Loop to gather all neighborhoods to use in filtering data\n",
    "regionname = []\n",
    "for i in range(len(x)):\n",
    "    regionname.append(x[i]['properties']['neighborhood'])\n",
    "    #print(x[i]['properties']['neighborhood']) #USE THIS TO CONFIRM THE NEIGHBORHOODS IN GEOJSON FILES\n",
    "\n",
    "# print(regionname)\n",
    "# len(regionname)"
   ]
  },
  {
   "cell_type": "code",
   "execution_count": 24,
   "metadata": {},
   "outputs": [
    {
     "output_type": "stream",
     "name": "stdout",
     "text": [
      "<class 'geopandas.geodataframe.GeoDataFrame'>\n"
     ]
    },
    {
     "output_type": "execute_result",
     "data": {
      "text/plain": [
       "        neighborhood boroughCode        borough  \\\n",
       "0           Allerton           2          Bronx   \n",
       "1    Alley Pond Park           4         Queens   \n",
       "2      Arden Heights           5  Staten Island   \n",
       "3          Arlington           5  Staten Island   \n",
       "4           Arrochar           5  Staten Island   \n",
       "..               ...         ...            ...   \n",
       "305  Windsor Terrace           3       Brooklyn   \n",
       "306        Woodhaven           4         Queens   \n",
       "307         Woodlawn           2          Bronx   \n",
       "308          Woodrow           5  Staten Island   \n",
       "309         Woodside           4         Queens   \n",
       "\n",
       "                                                   @id  \\\n",
       "0    http://nyc.pediacities.com/Resource/Neighborho...   \n",
       "1    http://nyc.pediacities.com/Resource/Neighborho...   \n",
       "2    http://nyc.pediacities.com/Resource/Neighborho...   \n",
       "3    http://nyc.pediacities.com/Resource/Neighborho...   \n",
       "4    http://nyc.pediacities.com/Resource/Neighborho...   \n",
       "..                                                 ...   \n",
       "305  http://nyc.pediacities.com/Resource/Neighborho...   \n",
       "306  http://nyc.pediacities.com/Resource/Neighborho...   \n",
       "307  http://nyc.pediacities.com/Resource/Neighborho...   \n",
       "308  http://nyc.pediacities.com/Resource/Neighborho...   \n",
       "309  http://nyc.pediacities.com/Resource/Neighborho...   \n",
       "\n",
       "                                              geometry  \n",
       "0    POLYGON ((-73.84860 40.87167, -73.84582 40.870...  \n",
       "1    POLYGON ((-73.74333 40.73888, -73.74371 40.739...  \n",
       "2    POLYGON ((-74.16983 40.56108, -74.16982 40.561...  \n",
       "3    POLYGON ((-74.15975 40.64142, -74.15998 40.641...  \n",
       "4    POLYGON ((-74.06078 40.59319, -74.06079 40.593...  \n",
       "..                                                 ...  \n",
       "305  POLYGON ((-73.98006 40.66075, -73.97988 40.660...  \n",
       "306  POLYGON ((-73.86233 40.69596, -73.85654 40.697...  \n",
       "307  POLYGON ((-73.85947 40.90052, -73.85926 40.900...  \n",
       "308  POLYGON ((-74.17728 40.54063, -74.17723 40.539...  \n",
       "309  POLYGON ((-73.90087 40.75767, -73.90014 40.756...  \n",
       "\n",
       "[310 rows x 5 columns]"
      ],
      "text/html": "<div>\n<style scoped>\n    .dataframe tbody tr th:only-of-type {\n        vertical-align: middle;\n    }\n\n    .dataframe tbody tr th {\n        vertical-align: top;\n    }\n\n    .dataframe thead th {\n        text-align: right;\n    }\n</style>\n<table border=\"1\" class=\"dataframe\">\n  <thead>\n    <tr style=\"text-align: right;\">\n      <th></th>\n      <th>neighborhood</th>\n      <th>boroughCode</th>\n      <th>borough</th>\n      <th>@id</th>\n      <th>geometry</th>\n    </tr>\n  </thead>\n  <tbody>\n    <tr>\n      <th>0</th>\n      <td>Allerton</td>\n      <td>2</td>\n      <td>Bronx</td>\n      <td>http://nyc.pediacities.com/Resource/Neighborho...</td>\n      <td>POLYGON ((-73.84860 40.87167, -73.84582 40.870...</td>\n    </tr>\n    <tr>\n      <th>1</th>\n      <td>Alley Pond Park</td>\n      <td>4</td>\n      <td>Queens</td>\n      <td>http://nyc.pediacities.com/Resource/Neighborho...</td>\n      <td>POLYGON ((-73.74333 40.73888, -73.74371 40.739...</td>\n    </tr>\n    <tr>\n      <th>2</th>\n      <td>Arden Heights</td>\n      <td>5</td>\n      <td>Staten Island</td>\n      <td>http://nyc.pediacities.com/Resource/Neighborho...</td>\n      <td>POLYGON ((-74.16983 40.56108, -74.16982 40.561...</td>\n    </tr>\n    <tr>\n      <th>3</th>\n      <td>Arlington</td>\n      <td>5</td>\n      <td>Staten Island</td>\n      <td>http://nyc.pediacities.com/Resource/Neighborho...</td>\n      <td>POLYGON ((-74.15975 40.64142, -74.15998 40.641...</td>\n    </tr>\n    <tr>\n      <th>4</th>\n      <td>Arrochar</td>\n      <td>5</td>\n      <td>Staten Island</td>\n      <td>http://nyc.pediacities.com/Resource/Neighborho...</td>\n      <td>POLYGON ((-74.06078 40.59319, -74.06079 40.593...</td>\n    </tr>\n    <tr>\n      <th>...</th>\n      <td>...</td>\n      <td>...</td>\n      <td>...</td>\n      <td>...</td>\n      <td>...</td>\n    </tr>\n    <tr>\n      <th>305</th>\n      <td>Windsor Terrace</td>\n      <td>3</td>\n      <td>Brooklyn</td>\n      <td>http://nyc.pediacities.com/Resource/Neighborho...</td>\n      <td>POLYGON ((-73.98006 40.66075, -73.97988 40.660...</td>\n    </tr>\n    <tr>\n      <th>306</th>\n      <td>Woodhaven</td>\n      <td>4</td>\n      <td>Queens</td>\n      <td>http://nyc.pediacities.com/Resource/Neighborho...</td>\n      <td>POLYGON ((-73.86233 40.69596, -73.85654 40.697...</td>\n    </tr>\n    <tr>\n      <th>307</th>\n      <td>Woodlawn</td>\n      <td>2</td>\n      <td>Bronx</td>\n      <td>http://nyc.pediacities.com/Resource/Neighborho...</td>\n      <td>POLYGON ((-73.85947 40.90052, -73.85926 40.900...</td>\n    </tr>\n    <tr>\n      <th>308</th>\n      <td>Woodrow</td>\n      <td>5</td>\n      <td>Staten Island</td>\n      <td>http://nyc.pediacities.com/Resource/Neighborho...</td>\n      <td>POLYGON ((-74.17728 40.54063, -74.17723 40.539...</td>\n    </tr>\n    <tr>\n      <th>309</th>\n      <td>Woodside</td>\n      <td>4</td>\n      <td>Queens</td>\n      <td>http://nyc.pediacities.com/Resource/Neighborho...</td>\n      <td>POLYGON ((-73.90087 40.75767, -73.90014 40.756...</td>\n    </tr>\n  </tbody>\n</table>\n<p>310 rows × 5 columns</p>\n</div>"
     },
     "metadata": {},
     "execution_count": 24
    }
   ],
   "source": [
    "fname = \"Resources/nyc.geojson\"\n",
    "\n",
    "nydf = gpd.read_file(fname)\n",
    "\n",
    "print(type(nydf))\n",
    "\n",
    "#nydf_set=nydf.set_index('neighborhood')\n",
    "nydf\n"
   ]
  },
  {
   "cell_type": "code",
   "execution_count": 45,
   "metadata": {},
   "outputs": [
    {
     "output_type": "execute_result",
     "data": {
      "text/plain": [
       "             neighborhood adminCode1  \\\n",
       "18                Bayview         CA   \n",
       "7          Bernal Heights         CA   \n",
       "34    Castro/Upper Market         CA   \n",
       "9               Chinatown         CA   \n",
       "13         Crocker Amazon         CA   \n",
       "21        Diamond Heights         CA   \n",
       "5   Downtown/Civic Center         CA   \n",
       "6               Excelsior         CA   \n",
       "30     Financial District         CA   \n",
       "36              Glen Park         CA   \n",
       "28       Golden Gate Park         CA   \n",
       "11         Haight Ashbury         CA   \n",
       "17         Inner Richmond         CA   \n",
       "20           Inner Sunset         CA   \n",
       "22              Lakeshore         CA   \n",
       "1                  Marina         CA   \n",
       "32                Mission         CA   \n",
       "3                Nob Hill         CA   \n",
       "19             Noe Valley         CA   \n",
       "10            North Beach         CA   \n",
       "31             Ocean View         CA   \n",
       "12          Outer Mission         CA   \n",
       "26         Outer Richmond         CA   \n",
       "35           Outer Sunset         CA   \n",
       "2         Pacific Heights         CA   \n",
       "29               Parkside         CA   \n",
       "16           Potrero Hill         CA   \n",
       "33               Presidio         CA   \n",
       "4        Presidio Heights         CA   \n",
       "23           Russian Hill         CA   \n",
       "0                Seacliff         CA   \n",
       "15        South of Market         CA   \n",
       "24    Treasure Island/YBI         CA   \n",
       "25             Twin Peaks         CA   \n",
       "27      Visitacion Valley         CA   \n",
       "14     West of Twin Peaks         CA   \n",
       "8        Western Addition         CA   \n",
       "\n",
       "                                             geometry  \n",
       "18  MULTIPOLYGON (((-122.38811 37.74780, -122.3881...  \n",
       "7   MULTIPOLYGON (((-122.42825 37.73179, -122.4281...  \n",
       "34  MULTIPOLYGON (((-122.44644 37.76104, -122.4464...  \n",
       "9   MULTIPOLYGON (((-122.40877 37.79016, -122.4088...  \n",
       "13  MULTIPOLYGON (((-122.42085 37.70833, -122.4238...  \n",
       "21  MULTIPOLYGON (((-122.43553 37.74146, -122.4356...  \n",
       "5   MULTIPOLYGON (((-122.40891 37.79013, -122.4088...  \n",
       "6   MULTIPOLYGON (((-122.44082 37.71646, -122.4382...  \n",
       "30  MULTIPOLYGON (((-122.39425 37.80007, -122.3942...  \n",
       "36  MULTIPOLYGON (((-122.42418 37.74226, -122.4239...  \n",
       "28  MULTIPOLYGON (((-122.45469 37.77470, -122.4530...  \n",
       "11  MULTIPOLYGON (((-122.43596 37.76904, -122.4368...  \n",
       "17  MULTIPOLYGON (((-122.44646 37.77580, -122.4546...  \n",
       "20  MULTIPOLYGON (((-122.45144 37.75874, -122.4514...  \n",
       "22  MULTIPOLYGON (((-122.47105 37.70820, -122.4728...  \n",
       "1   MULTIPOLYGON (((-122.44681 37.80540, -122.4467...  \n",
       "32  MULTIPOLYGON (((-122.42476 37.74785, -122.4249...  \n",
       "3   MULTIPOLYGON (((-122.41861 37.78891, -122.4219...  \n",
       "19  MULTIPOLYGON (((-122.42558 37.75662, -122.4249...  \n",
       "10  MULTIPOLYGON (((-122.41063 37.80972, -122.4109...  \n",
       "31  MULTIPOLYGON (((-122.45912 37.70822, -122.4597...  \n",
       "12  MULTIPOLYGON (((-122.45428 37.70822, -122.4545...  \n",
       "26  MULTIPOLYGON (((-122.47874 37.78690, -122.4778...  \n",
       "35  MULTIPOLYGON (((-122.47601 37.74868, -122.4758...  \n",
       "2   MULTIPOLYGON (((-122.44683 37.78725, -122.4472...  \n",
       "29  MULTIPOLYGON (((-122.46964 37.73855, -122.4706...  \n",
       "16  MULTIPOLYGON (((-122.37996 37.75206, -122.3827...  \n",
       "33  MULTIPOLYGON (((-122.44798 37.80697, -122.4478...  \n",
       "4   MULTIPOLYGON (((-122.46260 37.78904, -122.4609...  \n",
       "23  MULTIPOLYGON (((-122.42095 37.80897, -122.4206...  \n",
       "0   MULTIPOLYGON (((-122.48409 37.78791, -122.4843...  \n",
       "15  MULTIPOLYGON (((-122.38742 37.78050, -122.3874...  \n",
       "24  MULTIPOLYGON (((-122.37313 37.83225, -122.3686...  \n",
       "25  MULTIPOLYGON (((-122.46142 37.75156, -122.4603...  \n",
       "27  MULTIPOLYGON (((-122.39498 37.70841, -122.3996...  \n",
       "14  MULTIPOLYGON (((-122.45252 37.72317, -122.4569...  \n",
       "8   MULTIPOLYGON (((-122.42221 37.77291, -122.4232...  "
      ],
      "text/html": "<div>\n<style scoped>\n    .dataframe tbody tr th:only-of-type {\n        vertical-align: middle;\n    }\n\n    .dataframe tbody tr th {\n        vertical-align: top;\n    }\n\n    .dataframe thead th {\n        text-align: right;\n    }\n</style>\n<table border=\"1\" class=\"dataframe\">\n  <thead>\n    <tr style=\"text-align: right;\">\n      <th></th>\n      <th>neighborhood</th>\n      <th>adminCode1</th>\n      <th>geometry</th>\n    </tr>\n  </thead>\n  <tbody>\n    <tr>\n      <th>18</th>\n      <td>Bayview</td>\n      <td>CA</td>\n      <td>MULTIPOLYGON (((-122.38811 37.74780, -122.3881...</td>\n    </tr>\n    <tr>\n      <th>7</th>\n      <td>Bernal Heights</td>\n      <td>CA</td>\n      <td>MULTIPOLYGON (((-122.42825 37.73179, -122.4281...</td>\n    </tr>\n    <tr>\n      <th>34</th>\n      <td>Castro/Upper Market</td>\n      <td>CA</td>\n      <td>MULTIPOLYGON (((-122.44644 37.76104, -122.4464...</td>\n    </tr>\n    <tr>\n      <th>9</th>\n      <td>Chinatown</td>\n      <td>CA</td>\n      <td>MULTIPOLYGON (((-122.40877 37.79016, -122.4088...</td>\n    </tr>\n    <tr>\n      <th>13</th>\n      <td>Crocker Amazon</td>\n      <td>CA</td>\n      <td>MULTIPOLYGON (((-122.42085 37.70833, -122.4238...</td>\n    </tr>\n    <tr>\n      <th>21</th>\n      <td>Diamond Heights</td>\n      <td>CA</td>\n      <td>MULTIPOLYGON (((-122.43553 37.74146, -122.4356...</td>\n    </tr>\n    <tr>\n      <th>5</th>\n      <td>Downtown/Civic Center</td>\n      <td>CA</td>\n      <td>MULTIPOLYGON (((-122.40891 37.79013, -122.4088...</td>\n    </tr>\n    <tr>\n      <th>6</th>\n      <td>Excelsior</td>\n      <td>CA</td>\n      <td>MULTIPOLYGON (((-122.44082 37.71646, -122.4382...</td>\n    </tr>\n    <tr>\n      <th>30</th>\n      <td>Financial District</td>\n      <td>CA</td>\n      <td>MULTIPOLYGON (((-122.39425 37.80007, -122.3942...</td>\n    </tr>\n    <tr>\n      <th>36</th>\n      <td>Glen Park</td>\n      <td>CA</td>\n      <td>MULTIPOLYGON (((-122.42418 37.74226, -122.4239...</td>\n    </tr>\n    <tr>\n      <th>28</th>\n      <td>Golden Gate Park</td>\n      <td>CA</td>\n      <td>MULTIPOLYGON (((-122.45469 37.77470, -122.4530...</td>\n    </tr>\n    <tr>\n      <th>11</th>\n      <td>Haight Ashbury</td>\n      <td>CA</td>\n      <td>MULTIPOLYGON (((-122.43596 37.76904, -122.4368...</td>\n    </tr>\n    <tr>\n      <th>17</th>\n      <td>Inner Richmond</td>\n      <td>CA</td>\n      <td>MULTIPOLYGON (((-122.44646 37.77580, -122.4546...</td>\n    </tr>\n    <tr>\n      <th>20</th>\n      <td>Inner Sunset</td>\n      <td>CA</td>\n      <td>MULTIPOLYGON (((-122.45144 37.75874, -122.4514...</td>\n    </tr>\n    <tr>\n      <th>22</th>\n      <td>Lakeshore</td>\n      <td>CA</td>\n      <td>MULTIPOLYGON (((-122.47105 37.70820, -122.4728...</td>\n    </tr>\n    <tr>\n      <th>1</th>\n      <td>Marina</td>\n      <td>CA</td>\n      <td>MULTIPOLYGON (((-122.44681 37.80540, -122.4467...</td>\n    </tr>\n    <tr>\n      <th>32</th>\n      <td>Mission</td>\n      <td>CA</td>\n      <td>MULTIPOLYGON (((-122.42476 37.74785, -122.4249...</td>\n    </tr>\n    <tr>\n      <th>3</th>\n      <td>Nob Hill</td>\n      <td>CA</td>\n      <td>MULTIPOLYGON (((-122.41861 37.78891, -122.4219...</td>\n    </tr>\n    <tr>\n      <th>19</th>\n      <td>Noe Valley</td>\n      <td>CA</td>\n      <td>MULTIPOLYGON (((-122.42558 37.75662, -122.4249...</td>\n    </tr>\n    <tr>\n      <th>10</th>\n      <td>North Beach</td>\n      <td>CA</td>\n      <td>MULTIPOLYGON (((-122.41063 37.80972, -122.4109...</td>\n    </tr>\n    <tr>\n      <th>31</th>\n      <td>Ocean View</td>\n      <td>CA</td>\n      <td>MULTIPOLYGON (((-122.45912 37.70822, -122.4597...</td>\n    </tr>\n    <tr>\n      <th>12</th>\n      <td>Outer Mission</td>\n      <td>CA</td>\n      <td>MULTIPOLYGON (((-122.45428 37.70822, -122.4545...</td>\n    </tr>\n    <tr>\n      <th>26</th>\n      <td>Outer Richmond</td>\n      <td>CA</td>\n      <td>MULTIPOLYGON (((-122.47874 37.78690, -122.4778...</td>\n    </tr>\n    <tr>\n      <th>35</th>\n      <td>Outer Sunset</td>\n      <td>CA</td>\n      <td>MULTIPOLYGON (((-122.47601 37.74868, -122.4758...</td>\n    </tr>\n    <tr>\n      <th>2</th>\n      <td>Pacific Heights</td>\n      <td>CA</td>\n      <td>MULTIPOLYGON (((-122.44683 37.78725, -122.4472...</td>\n    </tr>\n    <tr>\n      <th>29</th>\n      <td>Parkside</td>\n      <td>CA</td>\n      <td>MULTIPOLYGON (((-122.46964 37.73855, -122.4706...</td>\n    </tr>\n    <tr>\n      <th>16</th>\n      <td>Potrero Hill</td>\n      <td>CA</td>\n      <td>MULTIPOLYGON (((-122.37996 37.75206, -122.3827...</td>\n    </tr>\n    <tr>\n      <th>33</th>\n      <td>Presidio</td>\n      <td>CA</td>\n      <td>MULTIPOLYGON (((-122.44798 37.80697, -122.4478...</td>\n    </tr>\n    <tr>\n      <th>4</th>\n      <td>Presidio Heights</td>\n      <td>CA</td>\n      <td>MULTIPOLYGON (((-122.46260 37.78904, -122.4609...</td>\n    </tr>\n    <tr>\n      <th>23</th>\n      <td>Russian Hill</td>\n      <td>CA</td>\n      <td>MULTIPOLYGON (((-122.42095 37.80897, -122.4206...</td>\n    </tr>\n    <tr>\n      <th>0</th>\n      <td>Seacliff</td>\n      <td>CA</td>\n      <td>MULTIPOLYGON (((-122.48409 37.78791, -122.4843...</td>\n    </tr>\n    <tr>\n      <th>15</th>\n      <td>South of Market</td>\n      <td>CA</td>\n      <td>MULTIPOLYGON (((-122.38742 37.78050, -122.3874...</td>\n    </tr>\n    <tr>\n      <th>24</th>\n      <td>Treasure Island/YBI</td>\n      <td>CA</td>\n      <td>MULTIPOLYGON (((-122.37313 37.83225, -122.3686...</td>\n    </tr>\n    <tr>\n      <th>25</th>\n      <td>Twin Peaks</td>\n      <td>CA</td>\n      <td>MULTIPOLYGON (((-122.46142 37.75156, -122.4603...</td>\n    </tr>\n    <tr>\n      <th>27</th>\n      <td>Visitacion Valley</td>\n      <td>CA</td>\n      <td>MULTIPOLYGON (((-122.39498 37.70841, -122.3996...</td>\n    </tr>\n    <tr>\n      <th>14</th>\n      <td>West of Twin Peaks</td>\n      <td>CA</td>\n      <td>MULTIPOLYGON (((-122.45252 37.72317, -122.4569...</td>\n    </tr>\n    <tr>\n      <th>8</th>\n      <td>Western Addition</td>\n      <td>CA</td>\n      <td>MULTIPOLYGON (((-122.42221 37.77291, -122.4232...</td>\n    </tr>\n  </tbody>\n</table>\n</div>"
     },
     "metadata": {},
     "execution_count": 45
    }
   ],
   "source": [
    "\n",
    "\n",
    "fname = \"Resources/san-francisco.geojson\"\n",
    "\n",
    "chidf = gpd.read_file(fname)\n",
    "\n",
    "#nydf_set=nydf.set_index('neighborhood')\n",
    "chidf\n",
    "\n",
    "df2=chidf.drop(columns=['fclass','countryCode','geonameid','created_at','cartodb_id','updated_at','fcode', 'lat', 'parents','adminCode4','lng','adminCode2','adminCode3'])\n",
    "df2\n",
    "austin_df_sort=df2.sort_values('name', ascending=True)\n",
    "austin_df=austin_df_sort.rename(columns={'name':'neighborhood'})\n",
    "austin_df"
   ]
  },
  {
   "cell_type": "raw",
   "metadata": {},
   "source": []
  },
  {
   "cell_type": "code",
   "execution_count": 46,
   "metadata": {},
   "outputs": [
    {
     "output_type": "execute_result",
     "data": {
      "text/plain": [
       "             neighborhood State           City  avg2010  avg2011  avg2012  \\\n",
       "5025         Alamo Square    CA  San Francisco   699698   648093   684491   \n",
       "6654           Anza Vista    CA  San Francisco   769290   735848   785291   \n",
       "11005      Balboa Terrace    CA  San Francisco  1189388  1091924  1140321   \n",
       "995               Bayview    CA  San Francisco   493526   446010   439474   \n",
       "818        Bernal Heights    CA  San Francisco   865994   826666   863250   \n",
       "...                   ...   ...            ...      ...      ...      ...   \n",
       "4145         Upper Market    CA  San Francisco   938380   886085   971025   \n",
       "1116    Visitacion Valley    CA  San Francisco   544288   497648   506158   \n",
       "973      Western Addition    CA  San Francisco   725492   681104   712996   \n",
       "13224  Westwood Highlands    CA  San Francisco   931912   886449   928500   \n",
       "6967        Westwood Park    CA  San Francisco   833985   783126   837430   \n",
       "\n",
       "       avg2013  avg2014  avg2015  avg2016  avg2017  avg2018  avg2019  avg2020  \n",
       "5025    806142   927263  1045523  1101449  1140429  1244423  1248195  1297928  \n",
       "6654    927157  1030891  1145092  1219696  1296032  1428491  1450450  1481647  \n",
       "11005  1363920  1549193  1633105  1666078  1795995  2055302  2008181  2034875  \n",
       "995     522360   627724   733414   803851   853501   926676   971087   999649  \n",
       "818    1026510  1190331  1343592  1407339  1428823  1572746  1555932  1588222  \n",
       "...        ...      ...      ...      ...      ...      ...      ...      ...  \n",
       "4145   1122263  1254238  1382952  1499989  1588199  1709854  1740084  1831568  \n",
       "1116    607096   679231   756923   788913   829743   894020   919017   944475  \n",
       "973     850458   964777  1097795  1138500  1169350  1290412  1306376  1344587  \n",
       "13224  1074948  1264277  1456548  1567831  1624359  1783176  1737601  1800062  \n",
       "6967    983213  1099303  1221831  1281760  1381900  1605613  1638361  1672105  \n",
       "\n",
       "[75 rows x 14 columns]"
      ],
      "text/html": "<div>\n<style scoped>\n    .dataframe tbody tr th:only-of-type {\n        vertical-align: middle;\n    }\n\n    .dataframe tbody tr th {\n        vertical-align: top;\n    }\n\n    .dataframe thead th {\n        text-align: right;\n    }\n</style>\n<table border=\"1\" class=\"dataframe\">\n  <thead>\n    <tr style=\"text-align: right;\">\n      <th></th>\n      <th>neighborhood</th>\n      <th>State</th>\n      <th>City</th>\n      <th>avg2010</th>\n      <th>avg2011</th>\n      <th>avg2012</th>\n      <th>avg2013</th>\n      <th>avg2014</th>\n      <th>avg2015</th>\n      <th>avg2016</th>\n      <th>avg2017</th>\n      <th>avg2018</th>\n      <th>avg2019</th>\n      <th>avg2020</th>\n    </tr>\n  </thead>\n  <tbody>\n    <tr>\n      <th>5025</th>\n      <td>Alamo Square</td>\n      <td>CA</td>\n      <td>San Francisco</td>\n      <td>699698</td>\n      <td>648093</td>\n      <td>684491</td>\n      <td>806142</td>\n      <td>927263</td>\n      <td>1045523</td>\n      <td>1101449</td>\n      <td>1140429</td>\n      <td>1244423</td>\n      <td>1248195</td>\n      <td>1297928</td>\n    </tr>\n    <tr>\n      <th>6654</th>\n      <td>Anza Vista</td>\n      <td>CA</td>\n      <td>San Francisco</td>\n      <td>769290</td>\n      <td>735848</td>\n      <td>785291</td>\n      <td>927157</td>\n      <td>1030891</td>\n      <td>1145092</td>\n      <td>1219696</td>\n      <td>1296032</td>\n      <td>1428491</td>\n      <td>1450450</td>\n      <td>1481647</td>\n    </tr>\n    <tr>\n      <th>11005</th>\n      <td>Balboa Terrace</td>\n      <td>CA</td>\n      <td>San Francisco</td>\n      <td>1189388</td>\n      <td>1091924</td>\n      <td>1140321</td>\n      <td>1363920</td>\n      <td>1549193</td>\n      <td>1633105</td>\n      <td>1666078</td>\n      <td>1795995</td>\n      <td>2055302</td>\n      <td>2008181</td>\n      <td>2034875</td>\n    </tr>\n    <tr>\n      <th>995</th>\n      <td>Bayview</td>\n      <td>CA</td>\n      <td>San Francisco</td>\n      <td>493526</td>\n      <td>446010</td>\n      <td>439474</td>\n      <td>522360</td>\n      <td>627724</td>\n      <td>733414</td>\n      <td>803851</td>\n      <td>853501</td>\n      <td>926676</td>\n      <td>971087</td>\n      <td>999649</td>\n    </tr>\n    <tr>\n      <th>818</th>\n      <td>Bernal Heights</td>\n      <td>CA</td>\n      <td>San Francisco</td>\n      <td>865994</td>\n      <td>826666</td>\n      <td>863250</td>\n      <td>1026510</td>\n      <td>1190331</td>\n      <td>1343592</td>\n      <td>1407339</td>\n      <td>1428823</td>\n      <td>1572746</td>\n      <td>1555932</td>\n      <td>1588222</td>\n    </tr>\n    <tr>\n      <th>...</th>\n      <td>...</td>\n      <td>...</td>\n      <td>...</td>\n      <td>...</td>\n      <td>...</td>\n      <td>...</td>\n      <td>...</td>\n      <td>...</td>\n      <td>...</td>\n      <td>...</td>\n      <td>...</td>\n      <td>...</td>\n      <td>...</td>\n      <td>...</td>\n    </tr>\n    <tr>\n      <th>4145</th>\n      <td>Upper Market</td>\n      <td>CA</td>\n      <td>San Francisco</td>\n      <td>938380</td>\n      <td>886085</td>\n      <td>971025</td>\n      <td>1122263</td>\n      <td>1254238</td>\n      <td>1382952</td>\n      <td>1499989</td>\n      <td>1588199</td>\n      <td>1709854</td>\n      <td>1740084</td>\n      <td>1831568</td>\n    </tr>\n    <tr>\n      <th>1116</th>\n      <td>Visitacion Valley</td>\n      <td>CA</td>\n      <td>San Francisco</td>\n      <td>544288</td>\n      <td>497648</td>\n      <td>506158</td>\n      <td>607096</td>\n      <td>679231</td>\n      <td>756923</td>\n      <td>788913</td>\n      <td>829743</td>\n      <td>894020</td>\n      <td>919017</td>\n      <td>944475</td>\n    </tr>\n    <tr>\n      <th>973</th>\n      <td>Western Addition</td>\n      <td>CA</td>\n      <td>San Francisco</td>\n      <td>725492</td>\n      <td>681104</td>\n      <td>712996</td>\n      <td>850458</td>\n      <td>964777</td>\n      <td>1097795</td>\n      <td>1138500</td>\n      <td>1169350</td>\n      <td>1290412</td>\n      <td>1306376</td>\n      <td>1344587</td>\n    </tr>\n    <tr>\n      <th>13224</th>\n      <td>Westwood Highlands</td>\n      <td>CA</td>\n      <td>San Francisco</td>\n      <td>931912</td>\n      <td>886449</td>\n      <td>928500</td>\n      <td>1074948</td>\n      <td>1264277</td>\n      <td>1456548</td>\n      <td>1567831</td>\n      <td>1624359</td>\n      <td>1783176</td>\n      <td>1737601</td>\n      <td>1800062</td>\n    </tr>\n    <tr>\n      <th>6967</th>\n      <td>Westwood Park</td>\n      <td>CA</td>\n      <td>San Francisco</td>\n      <td>833985</td>\n      <td>783126</td>\n      <td>837430</td>\n      <td>983213</td>\n      <td>1099303</td>\n      <td>1221831</td>\n      <td>1281760</td>\n      <td>1381900</td>\n      <td>1605613</td>\n      <td>1638361</td>\n      <td>1672105</td>\n    </tr>\n  </tbody>\n</table>\n<p>75 rows × 14 columns</p>\n</div>"
     },
     "metadata": {},
     "execution_count": 46
    }
   ],
   "source": [
    "df_loc = df.loc[df['City'] == 'San Francisco']\n",
    "df_sort=df_loc.sort_values('RegionName', ascending=True)\n",
    "df_rename = df_sort.rename(columns={'RegionName': 'neighborhood'})\n",
    "#df_set=df_rename.set_index('neighborhood')\n",
    "df_rename"
   ]
  },
  {
   "cell_type": "code",
   "execution_count": 47,
   "metadata": {},
   "outputs": [],
   "source": [
    "#Merge\n",
    "pd.merge(austin_df,df_rename).to_file(\"san-francisco.geojson\", driver='GeoJSON')"
   ]
  },
  {
   "cell_type": "code",
   "execution_count": null,
   "metadata": {},
   "outputs": [],
   "source": [
    "#Change key Column to one label\n",
    "#set index on that label\n",
    "#pd.merge(df,df).to_file(\"master.geojson\", driver='GeoJSON')"
   ]
  },
  {
   "cell_type": "code",
   "execution_count": 4,
   "metadata": {},
   "outputs": [],
   "source": [
    "fname1 = \"MASTER/san-francisco.geojson\"\n",
    "fname2 = \"MASTER/chicago.geojson\"\n",
    "fname3 = \"MASTER/nyc.geojson\"\n",
    "fname4 = \"MASTER/austin.geojson\"\n",
    "\n",
    "sf = gpd.read_file(fname1)\n",
    "chi = gpd.read_file(fname2)\n",
    "nyc = gpd.read_file(fname3)\n",
    "austin = gpd.read_file(fname4)\n"
   ]
  },
  {
   "cell_type": "code",
   "execution_count": 5,
   "metadata": {},
   "outputs": [
    {
     "output_type": "execute_result",
     "data": {
      "text/plain": [
       "      neighborhood State           City  avg2010  avg2011  avg2012  avg2013  \\\n",
       "0          Bayview    CA  San Francisco   493526   446010   439474   522360   \n",
       "1   Bernal Heights    CA  San Francisco   865994   826666   863250  1026510   \n",
       "2        Chinatown    CA  San Francisco  1201970  1109513  1180471  1352433   \n",
       "3   Crocker Amazon    CA  San Francisco   598796   561498   579349   684826   \n",
       "4  Diamond Heights    CA  San Francisco   764962   713029   762437   875363   \n",
       "\n",
       "   avg2014  avg2015  avg2016  avg2017  avg2018  avg2019  avg2020  \\\n",
       "0   627724   733414   803851   853501   926676   971087   999649   \n",
       "1  1190331  1343592  1407339  1428823  1572746  1555932  1588222   \n",
       "2  1433305  1505338  1552080  1549690  1605672  1617705  1571142   \n",
       "3   778553   829591   873949   906555  1037073  1083398  1122689   \n",
       "4   992159  1108427  1202779  1242415  1344981  1376739  1427679   \n",
       "\n",
       "                                            geometry  \n",
       "0  MULTIPOLYGON (((-122.38811 37.74780, -122.3881...  \n",
       "1  MULTIPOLYGON (((-122.42825 37.73179, -122.4281...  \n",
       "2  MULTIPOLYGON (((-122.40877 37.79016, -122.4088...  \n",
       "3  MULTIPOLYGON (((-122.42085 37.70833, -122.4238...  \n",
       "4  MULTIPOLYGON (((-122.43553 37.74146, -122.4356...  "
      ],
      "text/html": "<div>\n<style scoped>\n    .dataframe tbody tr th:only-of-type {\n        vertical-align: middle;\n    }\n\n    .dataframe tbody tr th {\n        vertical-align: top;\n    }\n\n    .dataframe thead th {\n        text-align: right;\n    }\n</style>\n<table border=\"1\" class=\"dataframe\">\n  <thead>\n    <tr style=\"text-align: right;\">\n      <th></th>\n      <th>neighborhood</th>\n      <th>State</th>\n      <th>City</th>\n      <th>avg2010</th>\n      <th>avg2011</th>\n      <th>avg2012</th>\n      <th>avg2013</th>\n      <th>avg2014</th>\n      <th>avg2015</th>\n      <th>avg2016</th>\n      <th>avg2017</th>\n      <th>avg2018</th>\n      <th>avg2019</th>\n      <th>avg2020</th>\n      <th>geometry</th>\n    </tr>\n  </thead>\n  <tbody>\n    <tr>\n      <th>0</th>\n      <td>Bayview</td>\n      <td>CA</td>\n      <td>San Francisco</td>\n      <td>493526</td>\n      <td>446010</td>\n      <td>439474</td>\n      <td>522360</td>\n      <td>627724</td>\n      <td>733414</td>\n      <td>803851</td>\n      <td>853501</td>\n      <td>926676</td>\n      <td>971087</td>\n      <td>999649</td>\n      <td>MULTIPOLYGON (((-122.38811 37.74780, -122.3881...</td>\n    </tr>\n    <tr>\n      <th>1</th>\n      <td>Bernal Heights</td>\n      <td>CA</td>\n      <td>San Francisco</td>\n      <td>865994</td>\n      <td>826666</td>\n      <td>863250</td>\n      <td>1026510</td>\n      <td>1190331</td>\n      <td>1343592</td>\n      <td>1407339</td>\n      <td>1428823</td>\n      <td>1572746</td>\n      <td>1555932</td>\n      <td>1588222</td>\n      <td>MULTIPOLYGON (((-122.42825 37.73179, -122.4281...</td>\n    </tr>\n    <tr>\n      <th>2</th>\n      <td>Chinatown</td>\n      <td>CA</td>\n      <td>San Francisco</td>\n      <td>1201970</td>\n      <td>1109513</td>\n      <td>1180471</td>\n      <td>1352433</td>\n      <td>1433305</td>\n      <td>1505338</td>\n      <td>1552080</td>\n      <td>1549690</td>\n      <td>1605672</td>\n      <td>1617705</td>\n      <td>1571142</td>\n      <td>MULTIPOLYGON (((-122.40877 37.79016, -122.4088...</td>\n    </tr>\n    <tr>\n      <th>3</th>\n      <td>Crocker Amazon</td>\n      <td>CA</td>\n      <td>San Francisco</td>\n      <td>598796</td>\n      <td>561498</td>\n      <td>579349</td>\n      <td>684826</td>\n      <td>778553</td>\n      <td>829591</td>\n      <td>873949</td>\n      <td>906555</td>\n      <td>1037073</td>\n      <td>1083398</td>\n      <td>1122689</td>\n      <td>MULTIPOLYGON (((-122.42085 37.70833, -122.4238...</td>\n    </tr>\n    <tr>\n      <th>4</th>\n      <td>Diamond Heights</td>\n      <td>CA</td>\n      <td>San Francisco</td>\n      <td>764962</td>\n      <td>713029</td>\n      <td>762437</td>\n      <td>875363</td>\n      <td>992159</td>\n      <td>1108427</td>\n      <td>1202779</td>\n      <td>1242415</td>\n      <td>1344981</td>\n      <td>1376739</td>\n      <td>1427679</td>\n      <td>MULTIPOLYGON (((-122.43553 37.74146, -122.4356...</td>\n    </tr>\n  </tbody>\n</table>\n</div>"
     },
     "metadata": {},
     "execution_count": 5
    }
   ],
   "source": [
    "sf\n",
    "sf1=sf.drop(columns=['adminCode1'])\n",
    "sf1.head()"
   ]
  },
  {
   "cell_type": "code",
   "execution_count": 6,
   "metadata": {},
   "outputs": [
    {
     "output_type": "execute_result",
     "data": {
      "text/plain": [
       "     neighborhood State     City  avg2010  avg2011  avg2012  avg2013  avg2014  \\\n",
       "0     Albany Park    IL  Chicago   247852   223185   211759   236297   262444   \n",
       "1   Andersonville    IL  Chicago   334956   311644   301330   334099   355669   \n",
       "2  Archer Heights    IL  Chicago   148379   131164   128336   137558   155930   \n",
       "3         Ashburn    IL  Chicago   157737   139485   132357   134103   142674   \n",
       "4     Avalon Park    IL  Chicago   164496   169283   151318   166399   171360   \n",
       "\n",
       "   avg2015  avg2016  avg2017  avg2018  avg2019  avg2020  \\\n",
       "0   273868   295540   312300   321774   312693   312326   \n",
       "1   373568   387764   409918   417422   417281   427871   \n",
       "2   167387   181294   196869   207363   208126   221654   \n",
       "3   151142   161251   175065   179030   180807   186947   \n",
       "4   147073   149232   144506   136229   138210   125911   \n",
       "\n",
       "                                            geometry  \n",
       "0  MULTIPOLYGON (((-87.70404 41.97355, -87.70403 ...  \n",
       "1  MULTIPOLYGON (((-87.66114 41.97630, -87.66132 ...  \n",
       "2  MULTIPOLYGON (((-87.71437 41.82604, -87.71436 ...  \n",
       "3  MULTIPOLYGON (((-87.71255 41.75734, -87.71252 ...  \n",
       "4  MULTIPOLYGON (((-87.58566 41.75150, -87.58475 ...  "
      ],
      "text/html": "<div>\n<style scoped>\n    .dataframe tbody tr th:only-of-type {\n        vertical-align: middle;\n    }\n\n    .dataframe tbody tr th {\n        vertical-align: top;\n    }\n\n    .dataframe thead th {\n        text-align: right;\n    }\n</style>\n<table border=\"1\" class=\"dataframe\">\n  <thead>\n    <tr style=\"text-align: right;\">\n      <th></th>\n      <th>neighborhood</th>\n      <th>State</th>\n      <th>City</th>\n      <th>avg2010</th>\n      <th>avg2011</th>\n      <th>avg2012</th>\n      <th>avg2013</th>\n      <th>avg2014</th>\n      <th>avg2015</th>\n      <th>avg2016</th>\n      <th>avg2017</th>\n      <th>avg2018</th>\n      <th>avg2019</th>\n      <th>avg2020</th>\n      <th>geometry</th>\n    </tr>\n  </thead>\n  <tbody>\n    <tr>\n      <th>0</th>\n      <td>Albany Park</td>\n      <td>IL</td>\n      <td>Chicago</td>\n      <td>247852</td>\n      <td>223185</td>\n      <td>211759</td>\n      <td>236297</td>\n      <td>262444</td>\n      <td>273868</td>\n      <td>295540</td>\n      <td>312300</td>\n      <td>321774</td>\n      <td>312693</td>\n      <td>312326</td>\n      <td>MULTIPOLYGON (((-87.70404 41.97355, -87.70403 ...</td>\n    </tr>\n    <tr>\n      <th>1</th>\n      <td>Andersonville</td>\n      <td>IL</td>\n      <td>Chicago</td>\n      <td>334956</td>\n      <td>311644</td>\n      <td>301330</td>\n      <td>334099</td>\n      <td>355669</td>\n      <td>373568</td>\n      <td>387764</td>\n      <td>409918</td>\n      <td>417422</td>\n      <td>417281</td>\n      <td>427871</td>\n      <td>MULTIPOLYGON (((-87.66114 41.97630, -87.66132 ...</td>\n    </tr>\n    <tr>\n      <th>2</th>\n      <td>Archer Heights</td>\n      <td>IL</td>\n      <td>Chicago</td>\n      <td>148379</td>\n      <td>131164</td>\n      <td>128336</td>\n      <td>137558</td>\n      <td>155930</td>\n      <td>167387</td>\n      <td>181294</td>\n      <td>196869</td>\n      <td>207363</td>\n      <td>208126</td>\n      <td>221654</td>\n      <td>MULTIPOLYGON (((-87.71437 41.82604, -87.71436 ...</td>\n    </tr>\n    <tr>\n      <th>3</th>\n      <td>Ashburn</td>\n      <td>IL</td>\n      <td>Chicago</td>\n      <td>157737</td>\n      <td>139485</td>\n      <td>132357</td>\n      <td>134103</td>\n      <td>142674</td>\n      <td>151142</td>\n      <td>161251</td>\n      <td>175065</td>\n      <td>179030</td>\n      <td>180807</td>\n      <td>186947</td>\n      <td>MULTIPOLYGON (((-87.71255 41.75734, -87.71252 ...</td>\n    </tr>\n    <tr>\n      <th>4</th>\n      <td>Avalon Park</td>\n      <td>IL</td>\n      <td>Chicago</td>\n      <td>164496</td>\n      <td>169283</td>\n      <td>151318</td>\n      <td>166399</td>\n      <td>171360</td>\n      <td>147073</td>\n      <td>149232</td>\n      <td>144506</td>\n      <td>136229</td>\n      <td>138210</td>\n      <td>125911</td>\n      <td>MULTIPOLYGON (((-87.58566 41.75150, -87.58475 ...</td>\n    </tr>\n  </tbody>\n</table>\n</div>"
     },
     "metadata": {},
     "execution_count": 6
    }
   ],
   "source": [
    "chi.head()"
   ]
  },
  {
   "cell_type": "code",
   "execution_count": 7,
   "metadata": {},
   "outputs": [
    {
     "output_type": "execute_result",
     "data": {
      "text/plain": [
       "    neighborhood State      City  avg2010  avg2011  avg2012  avg2013  avg2014  \\\n",
       "0  Arden Heights    NY  New York   363796   354269   344311   351177   363088   \n",
       "1       Arrochar    NY  New York   428131   414631   395200   398548   416573   \n",
       "2        Arverne    NY  New York   273226   264715   269113   271098   246015   \n",
       "3        Astoria    NY  New York   349928   361837   365509   389963   432495   \n",
       "4     Bath Beach    NY  New York   304865   313451   316966   333895   358763   \n",
       "\n",
       "   avg2015  avg2016  avg2017  avg2018  avg2019  avg2020  \\\n",
       "0   369753   390965   433861   473288   480433   479654   \n",
       "1   431512   468098   517597   576400   592421   578712   \n",
       "2   269579   290250   313677   341862   364245   371005   \n",
       "3   486875   554257   607919   639033   650897   652779   \n",
       "4   388327   414607   438408   466038   473127   465998   \n",
       "\n",
       "                                            geometry  \n",
       "0  POLYGON ((-74.16983 40.56108, -74.16982 40.561...  \n",
       "1  POLYGON ((-74.06078 40.59319, -74.06079 40.593...  \n",
       "2  POLYGON ((-73.78953 40.59997, -73.78954 40.599...  \n",
       "3  POLYGON ((-73.90160 40.76777, -73.90270 40.766...  \n",
       "4  POLYGON ((-73.99381 40.60195, -73.99962 40.596...  "
      ],
      "text/html": "<div>\n<style scoped>\n    .dataframe tbody tr th:only-of-type {\n        vertical-align: middle;\n    }\n\n    .dataframe tbody tr th {\n        vertical-align: top;\n    }\n\n    .dataframe thead th {\n        text-align: right;\n    }\n</style>\n<table border=\"1\" class=\"dataframe\">\n  <thead>\n    <tr style=\"text-align: right;\">\n      <th></th>\n      <th>neighborhood</th>\n      <th>State</th>\n      <th>City</th>\n      <th>avg2010</th>\n      <th>avg2011</th>\n      <th>avg2012</th>\n      <th>avg2013</th>\n      <th>avg2014</th>\n      <th>avg2015</th>\n      <th>avg2016</th>\n      <th>avg2017</th>\n      <th>avg2018</th>\n      <th>avg2019</th>\n      <th>avg2020</th>\n      <th>geometry</th>\n    </tr>\n  </thead>\n  <tbody>\n    <tr>\n      <th>0</th>\n      <td>Arden Heights</td>\n      <td>NY</td>\n      <td>New York</td>\n      <td>363796</td>\n      <td>354269</td>\n      <td>344311</td>\n      <td>351177</td>\n      <td>363088</td>\n      <td>369753</td>\n      <td>390965</td>\n      <td>433861</td>\n      <td>473288</td>\n      <td>480433</td>\n      <td>479654</td>\n      <td>POLYGON ((-74.16983 40.56108, -74.16982 40.561...</td>\n    </tr>\n    <tr>\n      <th>1</th>\n      <td>Arrochar</td>\n      <td>NY</td>\n      <td>New York</td>\n      <td>428131</td>\n      <td>414631</td>\n      <td>395200</td>\n      <td>398548</td>\n      <td>416573</td>\n      <td>431512</td>\n      <td>468098</td>\n      <td>517597</td>\n      <td>576400</td>\n      <td>592421</td>\n      <td>578712</td>\n      <td>POLYGON ((-74.06078 40.59319, -74.06079 40.593...</td>\n    </tr>\n    <tr>\n      <th>2</th>\n      <td>Arverne</td>\n      <td>NY</td>\n      <td>New York</td>\n      <td>273226</td>\n      <td>264715</td>\n      <td>269113</td>\n      <td>271098</td>\n      <td>246015</td>\n      <td>269579</td>\n      <td>290250</td>\n      <td>313677</td>\n      <td>341862</td>\n      <td>364245</td>\n      <td>371005</td>\n      <td>POLYGON ((-73.78953 40.59997, -73.78954 40.599...</td>\n    </tr>\n    <tr>\n      <th>3</th>\n      <td>Astoria</td>\n      <td>NY</td>\n      <td>New York</td>\n      <td>349928</td>\n      <td>361837</td>\n      <td>365509</td>\n      <td>389963</td>\n      <td>432495</td>\n      <td>486875</td>\n      <td>554257</td>\n      <td>607919</td>\n      <td>639033</td>\n      <td>650897</td>\n      <td>652779</td>\n      <td>POLYGON ((-73.90160 40.76777, -73.90270 40.766...</td>\n    </tr>\n    <tr>\n      <th>4</th>\n      <td>Bath Beach</td>\n      <td>NY</td>\n      <td>New York</td>\n      <td>304865</td>\n      <td>313451</td>\n      <td>316966</td>\n      <td>333895</td>\n      <td>358763</td>\n      <td>388327</td>\n      <td>414607</td>\n      <td>438408</td>\n      <td>466038</td>\n      <td>473127</td>\n      <td>465998</td>\n      <td>POLYGON ((-73.99381 40.60195, -73.99962 40.596...</td>\n    </tr>\n  </tbody>\n</table>\n</div>"
     },
     "metadata": {},
     "execution_count": 7
    }
   ],
   "source": [
    "nyc1=nyc.drop(columns=['boroughCode','borough','@id',])\n",
    "nyc1.head()"
   ]
  },
  {
   "cell_type": "code",
   "execution_count": 8,
   "metadata": {},
   "outputs": [
    {
     "output_type": "execute_result",
     "data": {
      "text/plain": [
       "    neighborhood State    City  avg2010  avg2011  avg2012  avg2013  avg2014  \\\n",
       "0      Allandale    TX  Austin   346340   347473   365387   414223   471341   \n",
       "1   Barton Hills    TX  Austin   390377   388005   415512   463927   527954   \n",
       "2  Bouldin Creek    TX  Austin   367469   369113   394951   448423   535302   \n",
       "3      Brentwood    TX  Austin   275064   271263   288746   322999   370062   \n",
       "4       Chestnut    TX  Austin   234182   226860   241993   274024   329942   \n",
       "\n",
       "   avg2015  avg2016  avg2017  avg2018  avg2019  avg2020  \\\n",
       "0   499515   532806   550270   578049   611273   639609   \n",
       "1   573072   609253   634963   650718   687730   723430   \n",
       "2   574892   610878   632283   659394   712075   759106   \n",
       "3   397255   426310   443496   454037   467573   498607   \n",
       "4   366509   391187   403466   423247   445397   466637   \n",
       "\n",
       "                                            geometry  \n",
       "0  MULTIPOLYGON (((-97.74358 30.36134, -97.74218 ...  \n",
       "1  MULTIPOLYGON (((-97.79630 30.23414, -97.79758 ...  \n",
       "2  MULTIPOLYGON (((-97.75962 30.24211, -97.76031 ...  \n",
       "3  MULTIPOLYGON (((-97.72354 30.33038, -97.72371 ...  \n",
       "4  MULTIPOLYGON (((-97.71991 30.27379, -97.72010 ...  "
      ],
      "text/html": "<div>\n<style scoped>\n    .dataframe tbody tr th:only-of-type {\n        vertical-align: middle;\n    }\n\n    .dataframe tbody tr th {\n        vertical-align: top;\n    }\n\n    .dataframe thead th {\n        text-align: right;\n    }\n</style>\n<table border=\"1\" class=\"dataframe\">\n  <thead>\n    <tr style=\"text-align: right;\">\n      <th></th>\n      <th>neighborhood</th>\n      <th>State</th>\n      <th>City</th>\n      <th>avg2010</th>\n      <th>avg2011</th>\n      <th>avg2012</th>\n      <th>avg2013</th>\n      <th>avg2014</th>\n      <th>avg2015</th>\n      <th>avg2016</th>\n      <th>avg2017</th>\n      <th>avg2018</th>\n      <th>avg2019</th>\n      <th>avg2020</th>\n      <th>geometry</th>\n    </tr>\n  </thead>\n  <tbody>\n    <tr>\n      <th>0</th>\n      <td>Allandale</td>\n      <td>TX</td>\n      <td>Austin</td>\n      <td>346340</td>\n      <td>347473</td>\n      <td>365387</td>\n      <td>414223</td>\n      <td>471341</td>\n      <td>499515</td>\n      <td>532806</td>\n      <td>550270</td>\n      <td>578049</td>\n      <td>611273</td>\n      <td>639609</td>\n      <td>MULTIPOLYGON (((-97.74358 30.36134, -97.74218 ...</td>\n    </tr>\n    <tr>\n      <th>1</th>\n      <td>Barton Hills</td>\n      <td>TX</td>\n      <td>Austin</td>\n      <td>390377</td>\n      <td>388005</td>\n      <td>415512</td>\n      <td>463927</td>\n      <td>527954</td>\n      <td>573072</td>\n      <td>609253</td>\n      <td>634963</td>\n      <td>650718</td>\n      <td>687730</td>\n      <td>723430</td>\n      <td>MULTIPOLYGON (((-97.79630 30.23414, -97.79758 ...</td>\n    </tr>\n    <tr>\n      <th>2</th>\n      <td>Bouldin Creek</td>\n      <td>TX</td>\n      <td>Austin</td>\n      <td>367469</td>\n      <td>369113</td>\n      <td>394951</td>\n      <td>448423</td>\n      <td>535302</td>\n      <td>574892</td>\n      <td>610878</td>\n      <td>632283</td>\n      <td>659394</td>\n      <td>712075</td>\n      <td>759106</td>\n      <td>MULTIPOLYGON (((-97.75962 30.24211, -97.76031 ...</td>\n    </tr>\n    <tr>\n      <th>3</th>\n      <td>Brentwood</td>\n      <td>TX</td>\n      <td>Austin</td>\n      <td>275064</td>\n      <td>271263</td>\n      <td>288746</td>\n      <td>322999</td>\n      <td>370062</td>\n      <td>397255</td>\n      <td>426310</td>\n      <td>443496</td>\n      <td>454037</td>\n      <td>467573</td>\n      <td>498607</td>\n      <td>MULTIPOLYGON (((-97.72354 30.33038, -97.72371 ...</td>\n    </tr>\n    <tr>\n      <th>4</th>\n      <td>Chestnut</td>\n      <td>TX</td>\n      <td>Austin</td>\n      <td>234182</td>\n      <td>226860</td>\n      <td>241993</td>\n      <td>274024</td>\n      <td>329942</td>\n      <td>366509</td>\n      <td>391187</td>\n      <td>403466</td>\n      <td>423247</td>\n      <td>445397</td>\n      <td>466637</td>\n      <td>MULTIPOLYGON (((-97.71991 30.27379, -97.72010 ...</td>\n    </tr>\n  </tbody>\n</table>\n</div>"
     },
     "metadata": {},
     "execution_count": 8
    }
   ],
   "source": [
    "austin1=austin.drop(columns=['adminCode1'])\n",
    "austin1.head()"
   ]
  },
  {
   "cell_type": "code",
   "execution_count": 9,
   "metadata": {},
   "outputs": [
    {
     "output_type": "execute_result",
     "data": {
      "text/plain": [
       "       neighborhood State           City  avg2010  avg2011  avg2012  avg2013  \\\n",
       "0           Bayview    CA  San Francisco   493526   446010   439474   522360   \n",
       "1    Bernal Heights    CA  San Francisco   865994   826666   863250  1026510   \n",
       "2         Chinatown    CA  San Francisco  1201970  1109513  1180471  1352433   \n",
       "3    Crocker Amazon    CA  San Francisco   598796   561498   579349   684826   \n",
       "4   Diamond Heights    CA  San Francisco   764962   713029   762437   875363   \n",
       "..              ...   ...            ...      ...      ...      ...      ...   \n",
       "39    West Congress    TX         Austin   162694   162633   165144   188161   \n",
       "40    Windsor Hills    TX         Austin   144565   135356   138779   154102   \n",
       "41     Windsor Park    TX         Austin   204490   195172   206241   243139   \n",
       "42           Wooten    TX         Austin   217064   207887   215782   239042   \n",
       "43           Zilker    TX         Austin   424491   418092   444189   504925   \n",
       "\n",
       "    avg2014  avg2015  avg2016  avg2017  avg2018  avg2019  avg2020  \\\n",
       "0    627724   733414   803851   853501   926676   971087   999649   \n",
       "1   1190331  1343592  1407339  1428823  1572746  1555932  1588222   \n",
       "2   1433305  1505338  1552080  1549690  1605672  1617705  1571142   \n",
       "3    778553   829591   873949   906555  1037073  1083398  1122689   \n",
       "4    992159  1108427  1202779  1242415  1344981  1376739  1427679   \n",
       "..      ...      ...      ...      ...      ...      ...      ...   \n",
       "39   227354   250410   286843   302825   317711   336018   366858   \n",
       "40   174513   193010   226193   253155   261295   277794   304779   \n",
       "41   288878   315396   338821   358434   382959   392748   415874   \n",
       "42   273487   305250   343614   361838   375863   389181   412113   \n",
       "43   586826   630042   662744   683739   706431   759539   816712   \n",
       "\n",
       "                                             geometry  \n",
       "0   MULTIPOLYGON (((-122.38811 37.74780, -122.3881...  \n",
       "1   MULTIPOLYGON (((-122.42825 37.73179, -122.4281...  \n",
       "2   MULTIPOLYGON (((-122.40877 37.79016, -122.4088...  \n",
       "3   MULTIPOLYGON (((-122.42085 37.70833, -122.4238...  \n",
       "4   MULTIPOLYGON (((-122.43553 37.74146, -122.4356...  \n",
       "..                                                ...  \n",
       "39  MULTIPOLYGON (((-97.77509 30.21752, -97.77476 ...  \n",
       "40  MULTIPOLYGON (((-97.67739 30.35166, -97.67899 ...  \n",
       "41  MULTIPOLYGON (((-97.67075 30.30853, -97.67203 ...  \n",
       "42  MULTIPOLYGON (((-97.71987 30.36918, -97.71981 ...  \n",
       "43  MULTIPOLYGON (((-97.78234 30.24362, -97.78448 ...  \n",
       "\n",
       "[348 rows x 15 columns]"
      ],
      "text/html": "<div>\n<style scoped>\n    .dataframe tbody tr th:only-of-type {\n        vertical-align: middle;\n    }\n\n    .dataframe tbody tr th {\n        vertical-align: top;\n    }\n\n    .dataframe thead th {\n        text-align: right;\n    }\n</style>\n<table border=\"1\" class=\"dataframe\">\n  <thead>\n    <tr style=\"text-align: right;\">\n      <th></th>\n      <th>neighborhood</th>\n      <th>State</th>\n      <th>City</th>\n      <th>avg2010</th>\n      <th>avg2011</th>\n      <th>avg2012</th>\n      <th>avg2013</th>\n      <th>avg2014</th>\n      <th>avg2015</th>\n      <th>avg2016</th>\n      <th>avg2017</th>\n      <th>avg2018</th>\n      <th>avg2019</th>\n      <th>avg2020</th>\n      <th>geometry</th>\n    </tr>\n  </thead>\n  <tbody>\n    <tr>\n      <th>0</th>\n      <td>Bayview</td>\n      <td>CA</td>\n      <td>San Francisco</td>\n      <td>493526</td>\n      <td>446010</td>\n      <td>439474</td>\n      <td>522360</td>\n      <td>627724</td>\n      <td>733414</td>\n      <td>803851</td>\n      <td>853501</td>\n      <td>926676</td>\n      <td>971087</td>\n      <td>999649</td>\n      <td>MULTIPOLYGON (((-122.38811 37.74780, -122.3881...</td>\n    </tr>\n    <tr>\n      <th>1</th>\n      <td>Bernal Heights</td>\n      <td>CA</td>\n      <td>San Francisco</td>\n      <td>865994</td>\n      <td>826666</td>\n      <td>863250</td>\n      <td>1026510</td>\n      <td>1190331</td>\n      <td>1343592</td>\n      <td>1407339</td>\n      <td>1428823</td>\n      <td>1572746</td>\n      <td>1555932</td>\n      <td>1588222</td>\n      <td>MULTIPOLYGON (((-122.42825 37.73179, -122.4281...</td>\n    </tr>\n    <tr>\n      <th>2</th>\n      <td>Chinatown</td>\n      <td>CA</td>\n      <td>San Francisco</td>\n      <td>1201970</td>\n      <td>1109513</td>\n      <td>1180471</td>\n      <td>1352433</td>\n      <td>1433305</td>\n      <td>1505338</td>\n      <td>1552080</td>\n      <td>1549690</td>\n      <td>1605672</td>\n      <td>1617705</td>\n      <td>1571142</td>\n      <td>MULTIPOLYGON (((-122.40877 37.79016, -122.4088...</td>\n    </tr>\n    <tr>\n      <th>3</th>\n      <td>Crocker Amazon</td>\n      <td>CA</td>\n      <td>San Francisco</td>\n      <td>598796</td>\n      <td>561498</td>\n      <td>579349</td>\n      <td>684826</td>\n      <td>778553</td>\n      <td>829591</td>\n      <td>873949</td>\n      <td>906555</td>\n      <td>1037073</td>\n      <td>1083398</td>\n      <td>1122689</td>\n      <td>MULTIPOLYGON (((-122.42085 37.70833, -122.4238...</td>\n    </tr>\n    <tr>\n      <th>4</th>\n      <td>Diamond Heights</td>\n      <td>CA</td>\n      <td>San Francisco</td>\n      <td>764962</td>\n      <td>713029</td>\n      <td>762437</td>\n      <td>875363</td>\n      <td>992159</td>\n      <td>1108427</td>\n      <td>1202779</td>\n      <td>1242415</td>\n      <td>1344981</td>\n      <td>1376739</td>\n      <td>1427679</td>\n      <td>MULTIPOLYGON (((-122.43553 37.74146, -122.4356...</td>\n    </tr>\n    <tr>\n      <th>...</th>\n      <td>...</td>\n      <td>...</td>\n      <td>...</td>\n      <td>...</td>\n      <td>...</td>\n      <td>...</td>\n      <td>...</td>\n      <td>...</td>\n      <td>...</td>\n      <td>...</td>\n      <td>...</td>\n      <td>...</td>\n      <td>...</td>\n      <td>...</td>\n      <td>...</td>\n    </tr>\n    <tr>\n      <th>39</th>\n      <td>West Congress</td>\n      <td>TX</td>\n      <td>Austin</td>\n      <td>162694</td>\n      <td>162633</td>\n      <td>165144</td>\n      <td>188161</td>\n      <td>227354</td>\n      <td>250410</td>\n      <td>286843</td>\n      <td>302825</td>\n      <td>317711</td>\n      <td>336018</td>\n      <td>366858</td>\n      <td>MULTIPOLYGON (((-97.77509 30.21752, -97.77476 ...</td>\n    </tr>\n    <tr>\n      <th>40</th>\n      <td>Windsor Hills</td>\n      <td>TX</td>\n      <td>Austin</td>\n      <td>144565</td>\n      <td>135356</td>\n      <td>138779</td>\n      <td>154102</td>\n      <td>174513</td>\n      <td>193010</td>\n      <td>226193</td>\n      <td>253155</td>\n      <td>261295</td>\n      <td>277794</td>\n      <td>304779</td>\n      <td>MULTIPOLYGON (((-97.67739 30.35166, -97.67899 ...</td>\n    </tr>\n    <tr>\n      <th>41</th>\n      <td>Windsor Park</td>\n      <td>TX</td>\n      <td>Austin</td>\n      <td>204490</td>\n      <td>195172</td>\n      <td>206241</td>\n      <td>243139</td>\n      <td>288878</td>\n      <td>315396</td>\n      <td>338821</td>\n      <td>358434</td>\n      <td>382959</td>\n      <td>392748</td>\n      <td>415874</td>\n      <td>MULTIPOLYGON (((-97.67075 30.30853, -97.67203 ...</td>\n    </tr>\n    <tr>\n      <th>42</th>\n      <td>Wooten</td>\n      <td>TX</td>\n      <td>Austin</td>\n      <td>217064</td>\n      <td>207887</td>\n      <td>215782</td>\n      <td>239042</td>\n      <td>273487</td>\n      <td>305250</td>\n      <td>343614</td>\n      <td>361838</td>\n      <td>375863</td>\n      <td>389181</td>\n      <td>412113</td>\n      <td>MULTIPOLYGON (((-97.71987 30.36918, -97.71981 ...</td>\n    </tr>\n    <tr>\n      <th>43</th>\n      <td>Zilker</td>\n      <td>TX</td>\n      <td>Austin</td>\n      <td>424491</td>\n      <td>418092</td>\n      <td>444189</td>\n      <td>504925</td>\n      <td>586826</td>\n      <td>630042</td>\n      <td>662744</td>\n      <td>683739</td>\n      <td>706431</td>\n      <td>759539</td>\n      <td>816712</td>\n      <td>MULTIPOLYGON (((-97.78234 30.24362, -97.78448 ...</td>\n    </tr>\n  </tbody>\n</table>\n<p>348 rows × 15 columns</p>\n</div>"
     },
     "metadata": {},
     "execution_count": 9
    }
   ],
   "source": [
    "frames = [sf1,chi,nyc1,austin1]\n",
    "result = pd.concat(frames)\n",
    "result"
   ]
  },
  {
   "cell_type": "code",
   "execution_count": 10,
   "metadata": {},
   "outputs": [],
   "source": [
    "result.to_file(\"MASTER.geojson\", driver='GeoJSON')"
   ]
  },
  {
   "cell_type": "code",
   "execution_count": null,
   "metadata": {},
   "outputs": [],
   "source": []
  }
 ],
 "metadata": {
  "anaconda-cloud": {},
  "kernelspec": {
   "display_name": "Python 3",
   "language": "python",
   "name": "python3"
  },
  "language_info": {
   "codemirror_mode": {
    "name": "ipython",
    "version": 3
   },
   "file_extension": ".py",
   "mimetype": "text/x-python",
   "name": "python",
   "nbconvert_exporter": "python",
   "pygments_lexer": "ipython3",
   "version": "3.8.3-final"
  }
 },
 "nbformat": 4,
 "nbformat_minor": 2
}